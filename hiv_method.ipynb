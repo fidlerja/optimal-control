{
 "cells": [
  {
   "cell_type": "code",
   "execution_count": 1,
   "metadata": {},
   "outputs": [],
   "source": [
    "import numpy as np\n",
    "import matplotlib.pyplot as plt\n",
    "import sympy as sy\n",
    "np.set_printoptions(precision=4)"
   ]
  },
  {
   "cell_type": "code",
   "execution_count": 2,
   "metadata": {},
   "outputs": [],
   "source": [
    "#Code from RK4 Lab with minor edits\n",
    "def initialize_all(y0, t0, t, n):\n",
    "    \"\"\" An initialization routine for the different ODE solving\n",
    "    methods in the lab. This initializes Y, T, and h. \"\"\"\n",
    "    if isinstance(y0, np.ndarray):\n",
    "        Y = np.empty((n, y0.size)).squeeze()\n",
    "    else:\n",
    "        Y = np.empty(n)\n",
    "    \n",
    "    Y[0] = y0\n",
    "    T = np.linspace(t0, t, n)\n",
    "    h = (t-t0)/(n-1)\n",
    "    return Y, T, h\n",
    "\n",
    "def RK4(f, y0, t0, t, n):\n",
    "    \"\"\" Use the RK4 method to compute an approximate solution\n",
    "    to the ODE y' = f(t, y) at n equispaced parameter values from t0 to t\n",
    "    with initial conditions y(t0) = y0.\n",
    "    y0 is assumed to be either a constant or a one-dimensional numpy array.\n",
    "    t and t0 are assumed to be constants.\n",
    "    f is assumed to accept three arguments.\n",
    "    The first is a constant giving the value of t.\n",
    "    The second is a one-dimensional numpy array of the same size as y.\n",
    "    The third is an index to the other arrays.\n",
    "    This function returns an array Y of shape (n,) if\n",
    "    y is a constant or an array of size 1.\n",
    "    It returns an array of shape (n, y.size) otherwise.\n",
    "    In either case, Y[i] is the approximate value of y at\n",
    "    the i'th value of np.linspace(t0, t, n).\n",
    "    \"\"\"\n",
    "    Y,T,h = initialize_all(y0,t0,t,n)\n",
    "    for i in range(n-1):\n",
    "        K1 = f(T[i],Y[i],i)\n",
    "        K2 = f(T[i]+h/2.,Y[i]+h/2.*K1,i)\n",
    "        K3 = f(T[i]+h/2.,Y[i]+h/2.*K2,i)\n",
    "        K4 = f(T[i+1],Y[i]+h*K3,i)\n",
    "        Y[i+1] = Y[i] + h/6.*(K1+2*K2 +2*K3+K4)\n",
    "    return Y"
   ]
  },
  {
   "cell_type": "markdown",
   "metadata": {},
   "source": [
    "## Problem Statement\n",
    "\\begin{align}\n",
    "    J(u) &= \\int_0^T \\lambda + (1-\\lambda)u^2 dt + M(x(T)^2 + v(T)^2) \\\\\n",
    "    \\dot{x} &= \\frac{v}{\\sqrt{1+f'(x)^2}}, x(0)=x_0 \\\\\n",
    "    \\dot{v} &= u - \\frac{gf'(x)}{\\sqrt{1+f'(x)^2}}, v(0)=v_0\n",
    "\\end{align}"
   ]
  },
  {
   "cell_type": "code",
   "execution_count": 4,
   "metadata": {},
   "outputs": [],
   "source": [
    "# global variables\n",
    "g = 9.81\n",
    "min_u = -1\n",
    "max_u = 1\n",
    "\n",
    "#surface\n",
    "x = sy.symbols('x') \n",
    "f = 0#-sy.cos(x/2)\n",
    "\n",
    "fp = sy.diff(f)\n",
    "norm = 1 / sy.sqrt(1+fp**2)\n",
    "normp = sy.diff(norm)\n",
    "fp_norm = fp* norm\n",
    "fp_normp = sy.diff(fp_norm)\n",
    "\n",
    "f_lam = sy.lambdify(x, f)\n",
    "fp_lam = sy.lambdify(x, fp)\n",
    "normp_lam = sy.lambdify(x, normp)\n",
    "fp_normp_lam = sy.lambdify(x, fp_normp)"
   ]
  },
  {
   "cell_type": "code",
   "execution_count": 5,
   "metadata": {},
   "outputs": [],
   "source": [
    "# define state equations\n",
    "def state_equations(t,y,i):\n",
    "    '''\n",
    "    Parameters\n",
    "    ---------------\n",
    "    t : float\n",
    "        the time\n",
    "    y : ndarray (2,)\n",
    "    i : int\n",
    "        \n",
    "    Returns\n",
    "    --------------\n",
    "    y_dot : ndarray (2,)\n",
    "        the derivative of the T cell concentration and the virus\n",
    "        concentration at time t\n",
    "    '''\n",
    "    x = y[0]\n",
    "    v = y[1]\n",
    "    \n",
    "    #calculate fp\n",
    "    fp_x = fp_lam(x)\n",
    "\n",
    "    #find vdot and pdot\n",
    "    xdot = v / np.sqrt(1 + fp_x**2)\n",
    "    vdot = u[i] - g*fp_x / np.sqrt(1 + fp_x**2)\n",
    "    return np.array([xdot, vdot])"
   ]
  },
  {
   "cell_type": "markdown",
   "metadata": {},
   "source": [
    "## Problem 2"
   ]
  },
  {
   "cell_type": "code",
   "execution_count": 6,
   "metadata": {},
   "outputs": [],
   "source": [
    "def lambda_hat(t,y,i):\n",
    "    '''\n",
    "    Parameters\n",
    "    ---------------\n",
    "    t : float\n",
    "        the time\n",
    "    y : ndarray (2,)\n",
    "        the lambda_hat values at time t\n",
    "    i : int\n",
    "        index for global variables, u and state.\n",
    "        \n",
    "    Returns\n",
    "    --------------\n",
    "    y_dot : ndarray (2,)\n",
    "        the derivative of the lambda_hats at time t.\n",
    "    '''\n",
    "    p1 = y[0]\n",
    "    p2 = y[1]\n",
    "    i = n-1-i\n",
    "    x = state[i,0]\n",
    "    v = state[i,1]\n",
    "    \n",
    "    #calculate fp\n",
    "    fp_x = fp_lam(x)\n",
    "    \n",
    "    pd1 = -p1*v*normp_lam(x) + p2*g*fp_normp_lam(x)\n",
    "    pd2 = -p1/np.sqrt(1+fp_x**2)\n",
    "    return np.array([pd1, pd2])"
   ]
  },
  {
   "cell_type": "markdown",
   "metadata": {},
   "source": [
    "## Problem 3"
   ]
  },
  {
   "cell_type": "code",
   "execution_count": 7,
   "metadata": {},
   "outputs": [],
   "source": [
    "#parameters to tweak\n",
    "lambda_ = 0\n",
    "M = 100\n",
    "\n",
    "#intial states\n",
    "t_f = 10\n",
    "x0 = -1\n",
    "v0 = 0\n",
    "\n",
    "n = 2000\n",
    "\n",
    "# initialize global variables, state, costate, and u.\n",
    "state = np.zeros((n,2))\n",
    "state0 = np.array([x0, v0])\n",
    "\n",
    "costate = np.zeros((n,2))\n",
    "\n",
    "u=np.zeros(n)-1"
   ]
  },
  {
   "cell_type": "code",
   "execution_count": 8,
   "metadata": {},
   "outputs": [
    {
     "name": "stderr",
     "output_type": "stream",
     "text": [
      "/home/contagon6/anaconda3/lib/python3.7/site-packages/ipykernel_launcher.py:26: RuntimeWarning: overflow encountered in double_scalars\n",
      "/home/contagon6/anaconda3/lib/python3.7/site-packages/ipykernel_launcher.py:26: RuntimeWarning: invalid value encountered in double_scalars\n"
     ]
    }
   ],
   "source": [
    "epsilon = 0.001\n",
    "test = epsilon + 1\n",
    "ones = np.ones(n)\n",
    "max_iter = 1000\n",
    "iters = 0\n",
    "while(test > epsilon):\n",
    "    oldu = u.copy();\n",
    "    #solve the state equations with forward iteration\n",
    "    state = RK4(state_equations, state0, 0, t_f, n)\n",
    "    \n",
    "    #solve the costate equations with backwards iteration\n",
    "    costate0 = -2*M*state[-1]\n",
    "    costate = RK4(lambda_hat, costate0, 0, t_f, n)[::-1]\n",
    "    \n",
    "    #solve for u1 and u2   \n",
    "#     u1 = np.minimum(np.maximum(ones*min_u, costate[:,1] / (2*(1-lambda_))), ones*max_u)\n",
    "    u1 = costate[:,1] / (2*(1-lambda_))\n",
    "    \n",
    "    #update control\n",
    "    u = 0.5*(u1 + oldu)\n",
    "    \n",
    "    #test for convergence\n",
    "    test = abs(oldu - u).sum()\n",
    "    iters += 1\n",
    "    if iters > max_iter:\n",
    "        test = 0\n",
    "    if iters % 100 == 0:\n",
    "        print(iters)"
   ]
  },
  {
   "cell_type": "code",
   "execution_count": 9,
   "metadata": {},
   "outputs": [
    {
     "data": {
      "image/png": "[encoded data removed]",
      "text/plain": [
       "<Figure size 1080x720 with 4 Axes>"
      ]
     },
     "metadata": {
      "needs_background": "light"
     },
     "output_type": "display_data"
    }
   ],
   "source": [
    "fig, ax = plt.subplots(2, 2, figsize=(15, 10))\n",
    "t = np.linspace(0, t_f, n)\n",
    "ax[0, 0].plot(t, state[:,0])\n",
    "ax[0, 0].set_ylabel('X')\n",
    "ax[0, 1].plot(t, state[:,1])\n",
    "ax[0, 1].set_ylabel('V')\n",
    "ax[1, 0].plot(t, u)\n",
    "ax[1, 0].set_ylabel('u1')\n",
    "ax[1, 1].plot(t, costate[:,1])\n",
    "ax[1, 1].set_ylabel('p1')\n",
    "plt.show()"
   ]
  },
  {
   "cell_type": "code",
   "execution_count": null,
   "metadata": {},
   "outputs": [],
   "source": []
  }
 ],
 "metadata": {
  "kernelspec": {
   "display_name": "Python 3",
   "language": "python",
   "name": "python3"
  },
  "language_info": {
   "codemirror_mode": {
    "name": "ipython",
    "version": 3
   },
   "file_extension": ".py",
   "mimetype": "text/x-python",
   "name": "python",
   "nbconvert_exporter": "python",
   "pygments_lexer": "ipython3",
   "version": "3.7.4"
  }
 },
 "nbformat": 4,
 "nbformat_minor": 4
}
